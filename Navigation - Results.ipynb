{
 "cells": [
  {
   "cell_type": "markdown",
   "metadata": {},
   "source": [
    "# Results of the Navigation Project"
   ]
  },
  {
   "cell_type": "markdown",
   "metadata": {},
   "source": [
    "### 1. Introduction & goal of the project\n",
    "\n",
    "The objective of this project is to train an agent to navigate (and collect bananas!) in a large, square world. It's a Unity environment provided by [Udacity](https://www.udacity.com/).\n",
    "\n",
    "<img src=\" https://user-images.githubusercontent.com/10624937/42135619-d90f2f28-7d12-11e8-8823-82b970a54d7e.gif\"/>"
   ]
  },
  {
   "cell_type": "markdown",
   "metadata": {},
   "source": [
    "The state space has 37 dimensions and contains the agent's velocity, along with ray-based perception of objects around agent's forward direction.  Given this information, the agent has to learn how to best select actions.  Four discrete actions are available, corresponding to:\n",
    "- **`0`** - move forward.\n",
    "- **`1`** - move backward.\n",
    "- **`2`** - turn left.\n",
    "- **`3`** - turn right.\n",
    "\n",
    "The task is episodic, and in order to solve the environment, the agent must get an average score of +13 over 100 consecutive episodes.\n",
    "\n",
    "A reward of +1 is provided for collecting a yellow banana, and a reward of -1 is provided for collecting a blue banana.  Thus, the goal of the agent is to collect as many yellow bananas as possible while avoiding blue bananas.  "
   ]
  },
  {
   "cell_type": "markdown",
   "metadata": {},
   "source": [
    "### 2. Settings\n",
    "* ML Framework: **`Pytorch 1.4.0`** \n",
    "* GPU acceleration: **`CUDAToolkit 10.1`**\n",
    "* Operating system: **`Ubuntu 18.04`**\n",
    "* Unity: **`Versin 2019.3`**\n",
    "* Unity environment: **`Banana_Linux/Banana.x86_64`** provided by Udacity."
   ]
  },
  {
   "cell_type": "markdown",
   "metadata": {},
   "source": [
    "### 3. Packages\n",
    "**Implementation:** The project is implemented in `python 3.6` and within a `Jupyter Notebook`. \n",
    "<br>\n",
    "The following packages where imported:\n",
    "```python\n",
    "from unityagents import UnityEnvironment\n",
    "import numpy as np\n",
    "import torch\n",
    "import torch.nn as nn\n",
    "import torch.nn.functional as F\n",
    "import torch.optim as optim\n",
    "\n",
    "import time\n",
    "import random\n",
    "\n",
    "from collections import namedtuple, deque\n",
    "\n",
    "import matplotlib.pyplot as plt\n",
    "%matplotlib inline\n",
    "```"
   ]
  },
  {
   "cell_type": "markdown",
   "metadata": {},
   "source": [
    "### 4. Agent\n",
    "The project has been solved with a **Double-DQN** agent. \n",
    "- The replay buffer size is 100000\n",
    "- The batch size is 32\n",
    "- Gamma = 0.99\n",
    "- Tau = 0.01 (for soft update of target parameters)\n",
    "- Learning rate = 0.0005\n",
    "- The weights will be updated every 4 steps\n",
    "\n",
    "The Implementation of the Double-DQN agent is according to [`Mnih et al., 2015`](https://storage.googleapis.com/deepmind-media/dqn/DQNNaturePaper.pdf) and  [`van Hasselt et al., 2015`](https://arxiv.org/pdf/1509.06461.pdf)"
   ]
  },
  {
   "cell_type": "markdown",
   "metadata": {},
   "source": [
    "### 5. Training\n",
    "\n",
    "* The maximum number of training episodes is 2000.\n",
    "* The maximum number of timesteps per episode is 1000.\n",
    "* The starting value of epsilon, for epsilon-greedy action selection is 1.0.\n",
    "* The minimum value of epsilon is 0.1\n",
    "* The multiplicative factor (per episode) for decreasing epsilon is 0.995."
   ]
  },
  {
   "cell_type": "markdown",
   "metadata": {},
   "source": [
    "### 6. Results depending on the Model\n",
    "#### Model\n",
    "\n",
    "The value function has been represented by a deep neural network:\n",
    "- one input layer of size 37 (=size of the state space).\n",
    "- variable hidden layers of different sizes (see below).\n",
    "- one output layer of size 4 (= size of the action space).\n",
    "- The activation function is **Relu**.\n",
    "- The **dropout probability is 0,1** (=10%)."
   ]
  },
  {
   "cell_type": "markdown",
   "metadata": {},
   "source": [
    "#### Results\n",
    "The results are depicted according to the sizes of the hidden layers!"
   ]
  },
  {
   "cell_type": "markdown",
   "metadata": {},
   "source": [
    "##### Size of the hidden layers: 64, 64, 64\n",
    "Training results:\n",
    "\n",
    "<img src=\"images/training_results_ddqn_64_64_64.png\" width=\"500\" alt=\"Training Results\" align=\"left\"/>"
   ]
  },
  {
   "cell_type": "markdown",
   "metadata": {},
   "source": [
    "- Mean value of the 1. validation of 50 samples with 400 steps: **16.58**\n",
    "- Mean value of the 2. validation of 50 samples with 400 steps: **16.64**\n",
    "- Mean value of the 3. validation of 50 samples with 400 steps: **16.26**\n",
    "- Mean value of the 4. validation of 50 samples with 400 steps: **16.14**\n",
    "- Mean value of the 5. validation of 50 samples with 400 steps: **16.88**\n",
    "\n",
    "Total mean value: **16.50**"
   ]
  },
  {
   "cell_type": "markdown",
   "metadata": {},
   "source": [
    "##### Size of the hidden layers: 128, 128, 128\n",
    "Training results:\n",
    "\n",
    "<img src=\"images/training_results_ddqn_128_128_128.png\" width=\"500\" alt=\"Training Results\" align=\"left\"/>"
   ]
  },
  {
   "cell_type": "markdown",
   "metadata": {},
   "source": [
    "- Mean value of the 1. validation of 50 samples with 400 steps: **16.08**\n",
    "- Mean value of the 2. validation of 50 samples with 400 steps: **15.38**\n",
    "- Mean value of the 3. validation of 50 samples with 400 steps: **14.92**\n",
    "- Mean value of the 4. validation of 50 samples with 400 steps: **16.26**\n",
    "- Mean value of the 5. validation of 50 samples with 400 steps: **15.08**\n",
    "\n",
    "Total mean value: **15.54**"
   ]
  },
  {
   "cell_type": "markdown",
   "metadata": {},
   "source": [
    "##### Size of the hidden layers: 256, 256, 256\n",
    "Training results:\n",
    "\n",
    "<img src=\"images/training_results_ddqn_256_256_256.png\" width=\"500\" alt=\"Training Results\" align=\"left\"/>"
   ]
  },
  {
   "cell_type": "markdown",
   "metadata": {},
   "source": [
    "- Mean value of the 1. validation of 50 samples with 400 steps: **15.44**\n",
    "- Mean value of the 2. validation of 50 samples with 400 steps: **16.14**\n",
    "- Mean value of the 3. validation of 50 samples with 400 steps: **15.92**\n",
    "- Mean value of the 4. validation of 50 samples with 400 steps: **15.0**\n",
    "- Mean value of the 5. validation of 50 samples with 400 steps: **15.68**\n",
    "\n",
    "Total mean value: **15.64**"
   ]
  },
  {
   "cell_type": "markdown",
   "metadata": {},
   "source": [
    "##### Size of the hidden layers: 64, 64, 128\n",
    "Training results:\n",
    "\n",
    "<img src=\"images/training_results_ddqn_64_64_128.png\" width=\"500\" alt=\"Training Results\" align=\"left\"/>"
   ]
  },
  {
   "cell_type": "markdown",
   "metadata": {},
   "source": [
    "- Mean value of the 1. validation of 50 samples with 400 steps: **15.56**\n",
    "- Mean value of the 2. validation of 50 samples with 400 steps: **15.0**\n",
    "- Mean value of the 3. validation of 50 samples with 400 steps: **16.0**\n",
    "- Mean value of the 4. validation of 50 samples with 400 steps: **15.4**\n",
    "- Mean value of the 5. validation of 50 samples with 400 steps: **15.5**\n",
    "\n",
    "Total mean value: **15.49**"
   ]
  },
  {
   "cell_type": "markdown",
   "metadata": {},
   "source": [
    "##### Size of the hidden layers: 256, 256, 128\n",
    "Training results:\n",
    "\n",
    "<img src=\"images/training_results_ddqn_256_256_128.png\" width=\"500\" alt=\"Training Results\" align=\"left\"/>"
   ]
  },
  {
   "cell_type": "markdown",
   "metadata": {},
   "source": [
    "- Mean value of the 1. validation of 50 samples with 400 steps: **17.06**\n",
    "- Mean value of the 2. validation of 50 samples with 400 steps: **17.06**\n",
    "- Mean value of the 3. validation of 50 samples with 400 steps: **16.1**\n",
    "- Mean value of the 4. validation of 50 samples with 400 steps: **16.92**\n",
    "- Mean value of the 5. validation of 50 samples with 400 steps: **16.5**\n",
    "\n",
    "Total mean value: **16.73**"
   ]
  },
  {
   "cell_type": "markdown",
   "metadata": {},
   "source": [
    "##### Size of the hidden layers: 256, 256, 64\n",
    "Training results:\n",
    "\n",
    "<img src=\"images/training_results_ddqn_256_256_64.png\" width=\"500\" alt=\"Training Results\" align=\"left\"/>"
   ]
  },
  {
   "cell_type": "markdown",
   "metadata": {},
   "source": [
    "- Mean value of the 1. validation of 50 samples with 400 steps: **15.5**\n",
    "- Mean value of the 2. validation of 50 samples with 400 steps: **15.64**\n",
    "- Mean value of the 3. validation of 50 samples with 400 steps: **16.28**\n",
    "- Mean value of the 4. validation of 50 samples with 400 steps: **15.42**\n",
    "- Mean value of the 5. validation of 50 samples with 400 steps: **16.0**\n",
    "\n",
    "Total mean value: **15.77**"
   ]
  },
  {
   "cell_type": "markdown",
   "metadata": {},
   "source": [
    "##### Size of the hidden layers: 32, 32, 32\n",
    "Training results:\n",
    "\n",
    "<img src=\"images/training_results_ddqn_32_32_32.png\" width=\"500\" alt=\"Training Results\" align=\"left\"/>"
   ]
  },
  {
   "cell_type": "markdown",
   "metadata": {},
   "source": [
    "- Mean value of the 1. validation of 50 samples with 400 steps: **16.0**\n",
    "- Mean value of the 2. validation of 50 samples with 400 steps: **16.16**\n",
    "- Mean value of the 3. validation of 50 samples with 400 steps: **15.92**\n",
    "- Mean value of the 4. validation of 50 samples with 400 steps: **16.28**\n",
    "- Mean value of the 5. validation of 50 samples with 400 steps: **15.88**\n",
    "\n",
    "Total mean value: **16.05**"
   ]
  },
  {
   "cell_type": "markdown",
   "metadata": {},
   "source": [
    "##### Size of the hidden layers: 16, 16, 16\n",
    "**The network did not solve the exercise within 1000 episodes!** \n",
    "\n",
    "Training results:\n",
    "\n",
    "<img src=\"images/training_results_ddqn_16_16_16.png\" width=\"400\" alt=\"Training Results\" align=\"left\"/>"
   ]
  },
  {
   "cell_type": "markdown",
   "metadata": {},
   "source": [
    "- Mean value of the 1. validation of 50 samples with 400 steps: **9.68**\n",
    "- Mean value of the 2. validation of 50 samples with 400 steps: **10.06**\n",
    "- Mean value of the 3. validation of 50 samples with 400 steps: **10.5**\n",
    "- Mean value of the 4. validation of 50 samples with 400 steps: **9.26**\n",
    "- Mean value of the 5. validation of 50 samples with 400 steps: **10.34**\n",
    "\n",
    "Total mean value: **9.97**"
   ]
  },
  {
   "cell_type": "markdown",
   "metadata": {},
   "source": [
    "##### Size of the hidden layers: 32, 32\n",
    "Training results:\n",
    "\n",
    "<img src=\"images/training_results_ddqn_32_32.png\" width=\"500\" alt=\"Training Results\" align=\"left\"/>"
   ]
  },
  {
   "cell_type": "markdown",
   "metadata": {},
   "source": [
    "- Mean value of the 1. validation of 50 samples with 400 steps: **15.52**\n",
    "- Mean value of the 2. validation of 50 samples with 400 steps: **15.34**\n",
    "- Mean value of the 3. validation of 50 samples with 400 steps: **15.22**\n",
    "- Mean value of the 4. validation of 50 samples with 400 steps: **14.86**\n",
    "- Mean value of the 5. validation of 50 samples with 400 steps: **15.94**\n",
    "\n",
    "Total mean value: **15.38**"
   ]
  },
  {
   "cell_type": "markdown",
   "metadata": {},
   "source": [
    "##### Size of the hidden layers: 32\n",
    "Training results:\n",
    "\n",
    "<img src=\"images/training_results_ddqn_32.png\" width=\"500\" alt=\"Training Results\" align=\"left\"/>"
   ]
  },
  {
   "cell_type": "markdown",
   "metadata": {},
   "source": [
    "- Mean value of the 1. validation of 50 samples with 400 steps: **15.22**\n",
    "- Mean value of the 2. validation of 50 samples with 400 steps: **16.16**\n",
    "- Mean value of the 3. validation of 50 samples with 400 steps: **15.02**\n",
    "- Mean value of the 4. validation of 50 samples with 400 steps: **15.08**\n",
    "- Mean value of the 5. validation of 50 samples with 400 steps: **15.64**\n",
    "\n",
    "Total mean value: **15.42**"
   ]
  },
  {
   "cell_type": "markdown",
   "metadata": {},
   "source": [
    "##### Size of the hidden layers: 24\n",
    "Training results:\n",
    "\n",
    "<img src=\"images/training_results_ddqn_24.png\" width=\"500\" alt=\"Training Results\" align=\"left\"/>"
   ]
  },
  {
   "cell_type": "markdown",
   "metadata": {},
   "source": [
    "- Mean value of the 1. validation of 50 samples with 400 steps: **16.26**\n",
    "- Mean value of the 2. validation of 50 samples with 400 steps: **16.14**\n",
    "- Mean value of the 3. validation of 50 samples with 400 steps: **16.52**\n",
    "- Mean value of the 4. validation of 50 samples with 400 steps: **16.04**\n",
    "- Mean value of the 5. validation of 50 samples with 400 steps: **15.84**\n",
    "\n",
    "Total mean value: **16.16**"
   ]
  },
  {
   "cell_type": "markdown",
   "metadata": {},
   "source": [
    "##### Size of the hidden layers: 20\n",
    "Training results:\n",
    "\n",
    "<img src=\"images/training_results_ddqn_20.png\" width=\"500\" alt=\"Training Results\" align=\"left\"/>"
   ]
  },
  {
   "cell_type": "markdown",
   "metadata": {},
   "source": [
    "- Mean value of the 1. validation of 50 samples with 400 steps: **15.0**\n",
    "- Mean value of the 2. validation of 50 samples with 400 steps: **15.24**\n",
    "- Mean value of the 3. validation of 50 samples with 400 steps: **14.36**\n",
    "- Mean value of the 4. validation of 50 samples with 400 steps: **14.6**\n",
    "- Mean value of the 5. validation of 50 samples with 400 steps: **15.02**\n",
    "\n",
    "Total mean value: **14.84**"
   ]
  },
  {
   "cell_type": "markdown",
   "metadata": {},
   "source": [
    "##### Size of the hidden layers: 18\n",
    "Training results:\n",
    "\n",
    "<img src=\"images/training_results_ddqn_18.png\" width=\"500\" alt=\"Training Results\" align=\"left\"/>"
   ]
  },
  {
   "cell_type": "markdown",
   "metadata": {},
   "source": [
    "- Mean value of the 1. validation of 50 samples with 400 steps: **16.14**\n",
    "- Mean value of the 2. validation of 50 samples with 400 steps: **14.78**\n",
    "- Mean value of the 3. validation of 50 samples with 400 steps: **16.12**\n",
    "- Mean value of the 4. validation of 50 samples with 400 steps: **15.72**\n",
    "- Mean value of the 5. validation of 50 samples with 400 steps: **16.02**\n",
    "\n",
    "Total mean value: **15.76**"
   ]
  },
  {
   "cell_type": "markdown",
   "metadata": {},
   "source": [
    "##### Size of the hidden layers: 16\n",
    "Training results:\n",
    "\n",
    "<img src=\"images/training_results_ddqn_16.png\" width=\"500\" alt=\"Training Results\" align=\"left\"/>"
   ]
  },
  {
   "cell_type": "markdown",
   "metadata": {},
   "source": [
    "- Mean value of the 1. validation of 50 samples with 400 steps: **14.96**\n",
    "- Mean value of the 2. validation of 50 samples with 400 steps: **15.7**\n",
    "- Mean value of the 3. validation of 50 samples with 400 steps: **15.8**\n",
    "- Mean value of the 4. validation of 50 samples with 400 steps: **15.54**\n",
    "- Mean value of the 5. validation of 50 samples with 400 steps: **15.62**\n",
    "\n",
    "Total mean value: **15.52**"
   ]
  },
  {
   "cell_type": "markdown",
   "metadata": {},
   "source": [
    "##### Size of the hidden layers: 10\n",
    "Training results:\n",
    "\n",
    "**The network did not solve the exercise within 1000 episodes!** \n",
    "\n",
    "<img src=\"images/training_results_ddqn_10.png\" width=\"400\" alt=\"Training Results\" align=\"left\"/>"
   ]
  },
  {
   "cell_type": "markdown",
   "metadata": {},
   "source": [
    "- Mean value of the 1. validation of 50 samples with 400 steps: **12.94**\n",
    "- Mean value of the 2. validation of 50 samples with 400 steps: **12.44**\n",
    "- Mean value of the 3. validation of 50 samples with 400 steps: **13.08**\n",
    "- Mean value of the 4. validation of 50 samples with 400 steps: **13.26**\n",
    "- Mean value of the 5. validation of 50 samples with 400 steps: **13.32**\n",
    "\n",
    "Total mean value: **13.01**"
   ]
  },
  {
   "cell_type": "code",
   "execution_count": null,
   "metadata": {},
   "outputs": [],
   "source": []
  }
 ],
 "metadata": {
  "kernelspec": {
   "display_name": "Python 3",
   "language": "python",
   "name": "python3"
  },
  "language_info": {
   "codemirror_mode": {
    "name": "ipython",
    "version": 3
   },
   "file_extension": ".py",
   "mimetype": "text/x-python",
   "name": "python",
   "nbconvert_exporter": "python",
   "pygments_lexer": "ipython3",
   "version": "3.6.10"
  }
 },
 "nbformat": 4,
 "nbformat_minor": 4
}
