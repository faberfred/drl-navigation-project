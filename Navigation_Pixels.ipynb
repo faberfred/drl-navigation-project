{
 "cells": [
  {
   "cell_type": "markdown",
   "metadata": {},
   "source": [
    "# Navigation\n",
    "\n",
    "---\n",
    "\n",
    "The objective of this project is to train an agent to navigate (and collect bananas!) in a large, square world by using the **raw pixels as input**. It's a Unity environment provided by [Udacity](https://www.udacity.com/).\n",
    "\n",
    "<!-- <img src=\" https://user-images.githubusercontent.com/10624937/42135619-d90f2f28-7d12-11e8-8823-82b970a54d7e.gif\"/> -->\n",
    "\n",
    "### 1. Importing some necessary packages"
   ]
  },
  {
   "cell_type": "code",
   "execution_count": 1,
   "metadata": {},
   "outputs": [
    {
     "name": "stderr",
     "output_type": "stream",
     "text": [
      "\n",
      "Bad key \"text.kerning_factor\" on line 4 in\n",
      "/home/horst/anaconda3/envs/drlnd/lib/python3.6/site-packages/matplotlib/mpl-data/stylelib/_classic_test_patch.mplstyle.\n",
      "You probably need to get an updated matplotlibrc file from\n",
      "https://github.com/matplotlib/matplotlib/blob/v3.1.3/matplotlibrc.template\n",
      "or from the matplotlib source distribution\n"
     ]
    },
    {
     "name": "stdout",
     "output_type": "stream",
     "text": [
      "1.5.0\n"
     ]
    }
   ],
   "source": [
    "from unityagents import UnityEnvironment\n",
    "import numpy as np\n",
    "import matplotlib.pyplot as plt\n",
    "%matplotlib inline\n",
    "\n",
    "import torch\n",
    "import torch.nn as nn\n",
    "import torch.nn.functional as F\n",
    "import torch.optim as optim\n",
    "\n",
    "import time\n",
    "import random\n",
    "\n",
    "from collections import namedtuple, deque\n",
    "\n",
    "print(torch.__version__)"
   ]
  },
  {
   "cell_type": "markdown",
   "metadata": {},
   "source": [
    "Check if CUDA is available."
   ]
  },
  {
   "cell_type": "code",
   "execution_count": 2,
   "metadata": {},
   "outputs": [
    {
     "data": {
      "text/plain": [
       "1"
      ]
     },
     "execution_count": 2,
     "metadata": {},
     "output_type": "execute_result"
    }
   ],
   "source": [
    "torch.cuda.device_count()"
   ]
  },
  {
   "cell_type": "code",
   "execution_count": 3,
   "metadata": {},
   "outputs": [
    {
     "name": "stdout",
     "output_type": "stream",
     "text": [
      "cuda:0\n"
     ]
    }
   ],
   "source": [
    "device = torch.device(\"cuda:0\" if torch.cuda.is_available() else \"cpu\")\n",
    "print(device)"
   ]
  },
  {
   "cell_type": "markdown",
   "metadata": {},
   "source": [
    "### 2. Start the envoronment"
   ]
  },
  {
   "cell_type": "code",
   "execution_count": 4,
   "metadata": {},
   "outputs": [
    {
     "name": "stderr",
     "output_type": "stream",
     "text": [
      "INFO:unityagents:\n",
      "'Academy' started successfully!\n",
      "Unity Academy name: Academy\n",
      "        Number of Brains: 1\n",
      "        Number of External Brains : 1\n",
      "        Lesson number : 0\n",
      "        Reset Parameters :\n",
      "\t\t\n",
      "Unity brain name: BananaBrain\n",
      "        Number of Visual Observations (per agent): 1\n",
      "        Vector Observation space type: continuous\n",
      "        Vector Observation space size (per agent): 0\n",
      "        Number of stacked Vector Observation: 1\n",
      "        Vector Action space type: discrete\n",
      "        Vector Action space size (per agent): 4\n",
      "        Vector Action descriptions: , , , \n"
     ]
    }
   ],
   "source": [
    "env = UnityEnvironment(file_name=\"VisualBanana_Linux/Banana.x86_64\")"
   ]
  },
  {
   "cell_type": "markdown",
   "metadata": {},
   "source": [
    "Environments contain **_brains_** which are responsible for deciding the actions of their associated agents. Here we check for the first brain available, and set it as the default brain we will be controlling from Python."
   ]
  },
  {
   "cell_type": "code",
   "execution_count": 5,
   "metadata": {},
   "outputs": [
    {
     "name": "stdout",
     "output_type": "stream",
     "text": [
      "BananaBrain\n",
      "Unity brain name: BananaBrain\n",
      "        Number of Visual Observations (per agent): 1\n",
      "        Vector Observation space type: continuous\n",
      "        Vector Observation space size (per agent): 0\n",
      "        Number of stacked Vector Observation: 1\n",
      "        Vector Action space type: discrete\n",
      "        Vector Action space size (per agent): 4\n",
      "        Vector Action descriptions: , , , \n"
     ]
    }
   ],
   "source": [
    "# get the default brain\n",
    "brain_name = env.brain_names[0]\n",
    "print(brain_name)\n",
    "brain = env.brains[brain_name]\n",
    "print(brain)"
   ]
  },
  {
   "cell_type": "markdown",
   "metadata": {},
   "source": [
    "### 3. Examine the State and Action Spaces\n",
    "\n",
    "The simulation contains a single agent that navigates a large environment.  At each time step, it has four actions at its disposal:\n",
    "- `0` - walk forward \n",
    "- `1` - walk backward\n",
    "- `2` - turn left\n",
    "- `3` - turn right\n",
    "\n",
    "The environment state is an array of raw pixels with shape `(1, 84, 84, 3)`.  *Note that this code differs from the notebook for the project, where we are grabbing **`visual_observations`** (the raw pixels) instead of **`vector_observations`**.* A reward of `+1` is provided for collecting a yellow banana, and a reward of `-1` is provided for collecting a blue banana. \n",
    "\n",
    "Run the code cell below to print some information about the environment."
   ]
  },
  {
   "cell_type": "code",
   "execution_count": 6,
   "metadata": {},
   "outputs": [
    {
     "name": "stdout",
     "output_type": "stream",
     "text": [
      "Number of agents: 1\n",
      "Number of actions: 4\n",
      "States look like:\n"
     ]
    },
    {
     "data": {
      "image/png": "[encoded data removed]",
      "text/plain": [
       "<Figure size 432x288 with 1 Axes>"
      ]
     },
     "metadata": {
      "needs_background": "light"
     },
     "output_type": "display_data"
    },
    {
     "name": "stdout",
     "output_type": "stream",
     "text": [
      "States have shape: (1, 84, 84, 3)\n"
     ]
    }
   ],
   "source": [
    "# reset the environment\n",
    "env_info = env.reset(train_mode=True)[brain_name]\n",
    "\n",
    "# number of agents in the environment\n",
    "print('Number of agents:', len(env_info.agents))\n",
    "\n",
    "# number of actions\n",
    "action_size = brain.vector_action_space_size\n",
    "print('Number of actions:', action_size)\n",
    "\n",
    "# examine the state space \n",
    "state = env_info.visual_observations[0]\n",
    "print('States look like:')\n",
    "plt.imshow(np.squeeze(state))\n",
    "plt.show()\n",
    "state_size = state.shape\n",
    "print('States have shape:', state.shape)"
   ]
  },
  {
   "cell_type": "markdown",
   "metadata": {},
   "source": [
    "### 4. Take Random Actions in the Environment\n",
    "\n",
    "In the next code cell, you will learn how to use the Python API to control the agent and receive feedback from the environment.\n",
    "\n",
    "Once this cell is executed, you will watch the agent's performance, if it selects an action (uniformly) at random with each time step.  A window should pop up that allows you to observe the agent, as it moves through the environment.  \n",
    "\n",
    "Of course, you'll have to change the code so that the agent is able to use its experience to gradually choose better actions when interacting with the environment!"
   ]
  },
  {
   "cell_type": "code",
   "execution_count": 7,
   "metadata": {},
   "outputs": [
    {
     "name": "stdout",
     "output_type": "stream",
     "text": [
      "Score: 0.0\n"
     ]
    }
   ],
   "source": [
    "env_info = env.reset(train_mode=True)[brain_name] # reset the environment\n",
    "state = env_info.visual_observations[0]            # get the current state\n",
    "states = [state]                                   # collect some consecutive states\n",
    "score = 0                                          # initialize the score\n",
    "while True:\n",
    "    action = np.random.randint(action_size)        # select an action\n",
    "    env_info = env.step(action)[brain_name]        # send the action to the environment\n",
    "    next_state = env_info.visual_observations[0]   # get the next state\n",
    "    reward = env_info.rewards[0]                   # get the reward\n",
    "    done = env_info.local_done[0]                  # see if episode has finished\n",
    "    score += reward                                # update the score\n",
    "    state = next_state                             # roll over the state to next time step\n",
    "    states.append(state)                           # collect some consecutive states\n",
    "    if done:                                       # exit loop if episode finished\n",
    "        break\n",
    "    \n",
    "print(\"Score: {}\".format(score))\n",
    "states=np.vstack(states)"
   ]
  },
  {
   "cell_type": "markdown",
   "metadata": {},
   "source": [
    "## Double-Deep-Q-Network approach\n",
    "To solve the project a fixed Double-Deep-Q-Network approach is used.\n",
    "1. Define a Deep-Neural-Network \n",
    "2. Build the Double-DQN agent"
   ]
  },
  {
   "cell_type": "markdown",
   "metadata": {},
   "source": [
    "### 5. Deep-Convolutional-Neural-Network model\n",
    "A Deep-Convolutional-Neural-Network is used as the value function!"
   ]
  },
  {
   "cell_type": "code",
   "execution_count": 8,
   "metadata": {},
   "outputs": [],
   "source": [
    "class QNetwork(nn.Module):\n",
    "    \"\"\"Actor (Policy) Model.\"\"\"\n",
    "\n",
    "    def __init__(self, input_channel_size, action_size, seed):\n",
    "        \"\"\"Initialize parameters and build model.\n",
    "        Params\n",
    "        ======\n",
    "            input_channel_size (int): Number of input channels\n",
    "            action_size (int): Number of actions\n",
    "            seed (int): Random seed\n",
    "        \"\"\"\n",
    "        super(QNetwork, self).__init__()\n",
    "        # define the number of CNN filters for the 3 CNN layers\n",
    "        number_of_filters = [128, 256, 256]\n",
    "        self.seed = torch.manual_seed(seed)\n",
    "        \n",
    "        # apply 128 filters with size 3 x 3 and depth 1 => 128 activation maps of size 28 x 28\n",
    "        self.conv1 = nn.Conv3d(input_channel_size, number_of_filters[0], kernel_size=(1, 3, 3), stride=(1,3,3))\n",
    "        self.bn1 = nn.BatchNorm3d(number_of_filters[0])\n",
    "        \n",
    "        # apply 256 filters with size 3 x 3 and depth 1 => 256 activation maps of size 9 x 9\n",
    "        self.conv2 = nn.Conv3d(number_of_filters[0], number_of_filters[1], kernel_size=(1, 3, 3), stride=(1,3,3))\n",
    "        self.bn2 = nn.BatchNorm3d(number_of_filters[1])\n",
    "        \n",
    "        # apply 256 filters with size 3 x 3 and depth 4 => 256 activation maps of size 3 x 3\n",
    "        self.conv3 = nn.Conv3d(number_of_filters[1], number_of_filters[2], kernel_size=(4, 3, 3), stride=(1,3,3))\n",
    "        self.bn3 = nn.BatchNorm3d(number_of_filters[2])\n",
    "        \n",
    "        # convolution net output size is 3 x 3 x 256 = 2304\n",
    "        convolution_output_size = 2304\n",
    "        \n",
    "        # fully connected layer one with input size = output size of the convolution net\n",
    "        self.fc1 = nn.Linear(convolution_output_size, 1024)\n",
    "        # fully connected layer 2 with the output size = action_size\n",
    "        self.fc2 = nn.Linear(1024, action_size)\n",
    "\n",
    "\n",
    "    def forward(self, state):\n",
    "        \"\"\"Build a network that maps state -> action values.\"\"\"\n",
    "        x = F.relu(self.bn1(self.conv1(state)))\n",
    "        x = F.relu(self.bn2(self.conv2(x)))\n",
    "        x = F.relu(self.bn3(self.conv3(x)))\n",
    "        # flatten the output of the concolution part\n",
    "        x = x.view(x.size(0), -1)\n",
    "        x = F.relu(self.fc1(x))\n",
    "        x = self.fc2(x)\n",
    "        return x"
   ]
  },
  {
   "cell_type": "markdown",
   "metadata": {},
   "source": [
    "### 6. Setup the Double-DQN Agent"
   ]
  },
  {
   "cell_type": "code",
   "execution_count": 9,
   "metadata": {},
   "outputs": [],
   "source": [
    "# Set the hyper parameter\n",
    "\n",
    "# BUFFER_SIZE = int(1e5)  # replay buffer size\n",
    "BUFFER_SIZE = int(1e4)  # replay buffer size\n",
    "BATCH_SIZE = 64         # minibatch size\n",
    "GAMMA = 0.99            # discount factor\n",
    "TAU = 1e-3              # for soft update of target parameters / weights\n",
    "LR = 5e-4               # learning rate \n",
    "UPDATE_EVERY = 4        # how often to update the network -> this is variable C within the DQN paper\n",
    "\n",
    "device = torch.device(\"cuda:0\" if torch.cuda.is_available() else \"cpu\")\n",
    "\n",
    "\n",
    "class Agent():\n",
    "    \"\"\"Interacts with and learns from the environment.\"\"\"\n",
    "\n",
    "    def __init__(self, input_channel_size, action_size, seed):\n",
    "        \"\"\"Initialize an Agent object.\n",
    "        \n",
    "        Params\n",
    "        ======\n",
    "            input_channel_size (int): Number of input channels\n",
    "            action_size (int): Number of actions\n",
    "            seed (int): random seed\n",
    "        \"\"\"\n",
    "        self.input_channel_size = input_channel_size\n",
    "        self.action_size = action_size\n",
    "        self.seed = random.seed(seed)\n",
    "\n",
    "        # Local / online Q-Network \n",
    "        self.qnetwork_local = QNetwork(input_channel_size, action_size, seed).to(device)\n",
    "#         self.qnetwork_local = QNetwork().to(device)\n",
    "        \n",
    "        # Target Q-Network\n",
    "        self.qnetwork_target = QNetwork(input_channel_size, action_size, seed).to(device)\n",
    "#         self.qnetwork_target = QNetwork().to(device)\n",
    "\n",
    "        # Optimizer\n",
    "        self.optimizer = optim.Adam(self.qnetwork_local.parameters(), lr=LR)\n",
    "\n",
    "\n",
    "        # Replay memory\n",
    "        self.memory = ReplayBuffer(action_size, BUFFER_SIZE, BATCH_SIZE, seed)\n",
    "\n",
    "        # Initialize time step (for updating every UPDATE_EVERY steps)\n",
    "        self.t_step = 0\n",
    "\n",
    "    \n",
    "    def step(self, state, action, reward, next_state, done):\n",
    "        \"\"\"Update the replay memory and update everey UPDATE_EVERY steps the weights\n",
    "        \n",
    "        Params\n",
    "        ======\n",
    "        \n",
    "            state (): \n",
    "            action():\n",
    "            reward ():\n",
    "            next_state ():\n",
    "            done ():\n",
    "        \n",
    "        \n",
    "        \"\"\"\n",
    "        # Save experience in replay memory\n",
    "        self.memory.add(state, action, reward, next_state, done)\n",
    "        \n",
    "        # Learn every UPDATE_EVERY time steps.\n",
    "        self.t_step = (self.t_step + 1) % UPDATE_EVERY\n",
    "        \n",
    "        if self.t_step == 0:\n",
    "            # If enough samples are available in memory, get random subset and learn\n",
    "            if len(self.memory) > BATCH_SIZE:\n",
    "                # Randomly sample a batch of experiences from replay memory\n",
    "                experiences = self.memory.sample()\n",
    "                # Call the learn function\n",
    "                self.learn(experiences, GAMMA)\n",
    "\n",
    "    def act(self, state, eps=0.):\n",
    "        \"\"\"Returns actions for given state as per current policy.\n",
    "        \n",
    "        Params\n",
    "        ======\n",
    "            state (array_like): current state\n",
    "            eps (float): epsilon, for epsilon-greedy action selection\n",
    "        \"\"\"\n",
    "        # get the state as a torch tensor\n",
    "#         state = torch.from_numpy(state).float().unsqueeze(0).to(device)\n",
    "        state = torch.from_numpy(state).float().to(device)\n",
    "\n",
    "        \n",
    "        # set network into evaluation mode -> turn off dropout!\n",
    "        self.qnetwork_local.eval()\n",
    "        \n",
    "        # turn off gradient computation outside training mode -> safes memory & computations\n",
    "        with torch.no_grad():\n",
    "            # get the action values due to a forward pass of the state through the network!\n",
    "            action_values = self.qnetwork_local(state)\n",
    "        # set network back into training mode -> turn on dropout!\n",
    "        self.qnetwork_local.train()\n",
    "\n",
    "        # Epsilon-greedy action selection\n",
    "        if random.random() > eps:\n",
    "            # return the action with the biggest q-value\n",
    "            return np.argmax(action_values.cpu().data.numpy())\n",
    "        else:\n",
    "            # return a random uniformly distributed value out of the action space\n",
    "            return random.choice(np.arange(self.action_size))\n",
    "\n",
    "    def learn(self, experiences, gamma):\n",
    "        \"\"\"Update value parameters using given batch of experience tuples.\n",
    "        \n",
    "           Double-Deep-Q-Network implementation according to van Hasselt et al., 2015\n",
    "\n",
    "        Params\n",
    "        ======\n",
    "            experiences (Tuple[torch.Tensor]): tuple of (s, a, r, s', done) tuples -> transitions \n",
    "            stored in the replay memory\n",
    "            gamma (float): discount factor\n",
    "        \"\"\"\n",
    "        states, actions, rewards, next_states, dones = experiences\n",
    "\n",
    "        ## compute and minimize the loss\n",
    "        \n",
    "        \"\"\" Compute Q targets for next states \n",
    "        \n",
    "            For the Double-Deep-Q-Networt implementation: \n",
    "        \n",
    "            1. Get the indices of the max predicted Q values for the next states from \n",
    "            the online model / online network \n",
    "            2. Use these indices to get the max Q values from the target model / target network\n",
    "            \n",
    "            --unsqueeze()--\n",
    "            torch.unsqueeze(input, dim, out=None) → Tensor: Returns a new tensor with a dimension of size \n",
    "            one inserted at the specified position.\n",
    "            .unsqueeze(1) transform the data from a row-vector into a column vector\n",
    "            \n",
    "            --max()--\n",
    "            torch.max(input, dim, keepdim=False, out=None) -> (Tensor, LongTensor): Returns a \n",
    "            namedtuple (values, indices) where values is the maximum value of each row / column of \n",
    "            the input tensor in the given dimension dim. And indices is the index location \n",
    "            of each maximum value found (argmax).\n",
    "            .max(0)[0] returns the maximum value of the 0st dimension, the columns\n",
    "            .max(1)[0] returns the maximum value of the 1st dimension, the rows\n",
    "            .max(0)[1] returns the index of the max value of the 0st dimension the columns\n",
    "            .max(1)[1] returns the index of the max value of the 1st dimension, the rows\n",
    "            \n",
    "            --detach()--\n",
    "            detach(): return a new Tensor (it does not change the current one) that does not share \n",
    "            the history of the original Tensor / detached from the current graph.(no autograd)\n",
    "            .detach() returns a new tensor without history!\n",
    "            \n",
    "            \n",
    "            --gather()--\n",
    "            torch.gather(input, dim, index, out=None, sparse_grad=False) → Tensor\n",
    "            Gathers values along an axis specified by dim.\n",
    "            self.qnetwork_target(next_states).gather(1, Q_expected_next_index) returns an tensor with\n",
    "            the values of qnetwork_target located at the position within the rows indexed by Q_expected_next_index\n",
    "            \n",
    "            Q_targets_next is a column vector of size BATCH_SIZE with the max action values \n",
    "            from each forwarded next_state!\n",
    "       \n",
    "        \"\"\"\n",
    "#         # Get the index of the max value but NOT the value from qnetwork_local \n",
    "#         Q_expected_next_index = self.qnetwork_local(next_states).detach().max(1)[1].unsqueeze(1)\n",
    "        \n",
    "#         # Use these indices to get the max Q values from the target model / target network\n",
    "#         Q_targets_next = self.qnetwork_target(next_states).gather(1, Q_expected_next_index)\n",
    "        \n",
    "        # ==> NEW <==  Get max predicted Q values (for next states) from target model\n",
    "        Q_targets_next = self.qnetwork_target(next_states).detach().max(1)[0].unsqueeze(1)\n",
    "        \n",
    "        \n",
    "        \"\"\" Compute Q targets for current states:\n",
    "            \n",
    "            Use Q_targets_next to compute the current Q targets\n",
    "        \n",
    "            if done == 1 there will be no next state -> Q_targets is just the reward\n",
    "            otherwise it's the immediate reward + discount factor * the estimated Q_target of the next state\n",
    "            Q_targets is a column vector of size BATCH_SIZE with the computed values of the immediate reward and the Q-values (action-values) of the next state\n",
    "            \n",
    "        \"\"\"\n",
    "        Q_targets = rewards + (gamma * Q_targets_next * (1 - dones))\n",
    "\n",
    "\n",
    "        \"\"\" Get expected Q values from local model\n",
    "        \n",
    "            Q_expected_full_values has the Q-values / action values of a pass trough / forward run throug the network qnetwork_local\n",
    "            Q_expected_full_values has dimension 0 = BATCH_SIZE and dimension 1 = size of action space\n",
    "            \n",
    "            torch.gather(input, dim, index, out=None, sparse_grad=False) → Tensor: Gathers values along an axis specified by dim.\n",
    "            gather(1, actions) extracts the values out of Q_expected_full_values at the position specified in action! \n",
    "            If action has value 3 -> get the value from index 3 out of Q_expected_full_values\n",
    "            Q_expected has dimension 0 = BATCH_SIZE and dimension 1 = 1\n",
    "        \n",
    "        \"\"\"\n",
    "        # Get all Q-values of qnetwork_local\n",
    "        Q_expected_full_values = self.qnetwork_local(states)\n",
    "        \n",
    "        # Extract the Q-values accorting to actions (=indices of the values)\n",
    "        Q_expected = Q_expected_full_values.gather(1, actions)\n",
    "        \n",
    "        # The two previous steps can be done within one step\n",
    "        # Q_expected = self.qnetwork_local(states).gather(1, actions)\n",
    "\n",
    "        # Compute loss -> use the mean sqared error loss function (from torch.nn.functional)\n",
    "        loss = F.mse_loss(Q_expected, Q_targets)\n",
    "        \n",
    "        # Minimize the loss\n",
    "        # Clear the gradients, because backward accumulates the gradients and so they have to be cleared\n",
    "        self.optimizer.zero_grad()\n",
    "        \n",
    "        # calculate the gradients\n",
    "        loss.backward()\n",
    "        \n",
    "        # update the weights / parameter\n",
    "        self.optimizer.step()\n",
    "\n",
    "        # ------------------- update target network ------------------- #\n",
    "        self.soft_update(self.qnetwork_local, self.qnetwork_target, TAU)                          \n",
    "\n",
    "    def soft_update(self, local_model, target_model, tau):\n",
    "        \"\"\"Soft update model parameters.\n",
    "        θ_target = τ*θ_local + (1 - τ)*θ_target\n",
    "\n",
    "        Params\n",
    "        ======\n",
    "            local_model (PyTorch model): weights will be copied from\n",
    "            target_model (PyTorch model): weights will be copied to\n",
    "            tau (float): interpolation parameter \n",
    "        \"\"\"\n",
    "        for target_param, local_param in zip(target_model.parameters(), local_model.parameters()):\n",
    "            target_param.data.copy_(tau*local_param.data + (1.0-tau)*target_param.data)\n",
    "\n",
    "\n",
    "class ReplayBuffer:\n",
    "    \"\"\"Fixed-size buffer to store experience tuples.\"\"\"\n",
    "\n",
    "    def __init__(self, action_size, buffer_size, batch_size, seed):\n",
    "        \"\"\"Initialize a ReplayBuffer object.\n",
    "\n",
    "        Params\n",
    "        ======\n",
    "            action_size (int): dimension of each action\n",
    "            buffer_size (int): maximum size of buffer\n",
    "            batch_size (int): size of each training batch\n",
    "            seed (int): random seed\n",
    "        \"\"\"\n",
    "        self.action_size = action_size\n",
    "        self.memory = deque(maxlen=buffer_size)  \n",
    "        self.batch_size = batch_size\n",
    "        self.experience = namedtuple(\"Experience\", field_names=[\"state\", \"action\", \"reward\", \"next_state\", \"done\"])\n",
    "        self.seed = random.seed(seed)\n",
    "    \n",
    "    def add(self, state, action, reward, next_state, done):\n",
    "        \"\"\"Add a new experience to memory.\"\"\"\n",
    "        e = self.experience(state, action, reward, next_state, done)\n",
    "        self.memory.append(e)\n",
    "    \n",
    "    def sample(self):\n",
    "        \"\"\"Randomly sample a batch of experiences from memory.\"\"\"\n",
    "        experiences = random.sample(self.memory, k=self.batch_size)\n",
    "\n",
    "        states = torch.from_numpy(np.vstack([e.state for e in experiences if e is not None])).float().to(device)\n",
    "        actions = torch.from_numpy(np.vstack([e.action for e in experiences if e is not None])).long().to(device)\n",
    "        rewards = torch.from_numpy(np.vstack([e.reward for e in experiences if e is not None])).float().to(device)\n",
    "        next_states = torch.from_numpy(np.vstack([e.next_state for e in experiences if e is not None])).float().to(device)\n",
    "        dones = torch.from_numpy(np.vstack([e.done for e in experiences if e is not None]).astype(np.uint8)).float().to(device)\n",
    "  \n",
    "        return (states, actions, rewards, next_states, dones)\n",
    "\n",
    "    def __len__(self):\n",
    "        \"\"\"Return the current size of internal memory.\"\"\"\n",
    "        return len(self.memory)"
   ]
  },
  {
   "cell_type": "markdown",
   "metadata": {},
   "source": [
    "### 7. Prepare the states "
   ]
  },
  {
   "cell_type": "markdown",
   "metadata": {},
   "source": [
    "Prepare the input state for the agent and the policy by stacking four consecutive states from the environment on top of each other. This is necessary to introduce the temporal difference within the frames.\n",
    "\n",
    "1. Rearrange the shape of the states:\n",
    "The shape of the states coming from the Unity environment are 1,84,84,3 which is `NHWC` where `N = # of batches`, `H = height`, `W = width` and `C = # of channels`. This needs to be rearranged for PyTorch to `NCHW`.\n",
    "2. Set the number of consecutive frames that should be stacked over each other. This is the `depth` of the prepared frame. The `depth dimension = D` has to be at position 1 (starting counting at 0) of the prepared frame.\n",
    "3. Set a template for the prepared state. The template has the shape `NCDHW`. This is the required shape for PyTorch Conv3D.\n",
    "4. Fill the states into the template to get the prepared state.\n",
    "5. Update the states.\n"
   ]
  },
  {
   "cell_type": "code",
   "execution_count": 10,
   "metadata": {},
   "outputs": [],
   "source": [
    "last_frame = None\n",
    "second_to_last_frame = None\n",
    "third_to_last_frame = None\n",
    "\n",
    "def get_prepared_state(state):\n",
    "    global last_frame, second_to_last_frame, third_to_last_frame\n",
    "    # The shape of the states coming from the Unity environment need to be rearranged from NHWC to NCHW\n",
    "    current_frame = np.moveaxis(state,3,1)\n",
    "    # Get the frame size\n",
    "    frame_shape = current_frame.shape  # 1,3,84,84\n",
    "    # Set the number of consecutive frames that should be stacked over each other\n",
    "    number_of_frames = 4\n",
    "    # Set a template for the prepared state\n",
    "    prep_state = np.zeros((frame_shape[0], frame_shape[1], number_of_frames, frame_shape[2], frame_shape[3]))\n",
    "    # Fill the states into the template to get the prepared state \n",
    "    prep_state[0, :, 0, :, :] = current_frame\n",
    "    if(last_frame is not  None):\n",
    "        prep_state[0, :, 1, :, :] = last_frame\n",
    "    if(second_to_last_frame is not None):\n",
    "        prep_state[0, :, 2, :, :] = second_to_last_frame\n",
    "    if(third_to_last_frame is not None):\n",
    "        prep_state[0, :, 3, :, :] = third_to_last_frame\n",
    "    # update the states\n",
    "    third_to_last_frame = second_to_last_frame\n",
    "    second_to_last_frame = last_frame\n",
    "    last_frame = current_frame\n",
    "\n",
    "    return prep_state"
   ]
  },
  {
   "cell_type": "markdown",
   "metadata": {},
   "source": [
    "### 8. Initialize the Agent\n",
    "Initialize the agent and watch its untrained behaviour. "
   ]
  },
  {
   "cell_type": "code",
   "execution_count": 11,
   "metadata": {},
   "outputs": [],
   "source": [
    "agent = Agent(input_channel_size=3, action_size=4, seed=10)"
   ]
  },
  {
   "cell_type": "code",
   "execution_count": 12,
   "metadata": {},
   "outputs": [
    {
     "name": "stdout",
     "output_type": "stream",
     "text": [
      "Score: 0.0\n"
     ]
    }
   ],
   "source": [
    "env_info = env.reset(train_mode=True)[brain_name]  # reset the environment\n",
    "state = env_info.visual_observations[0]            # get the first state\n",
    "state = get_prepared_state(state)                  # prepare the state for conv3d\n",
    "score = 0                                          # init the score\n",
    "\n",
    "# watch an untrained agent\n",
    "for j in range(200):\n",
    "    action = agent.act(state)                      # get the action from the agent\n",
    "    env_info = env.step(action)[brain_name]        # send the action to the environment\n",
    "    next_state = env_info.visual_observations[0]   # get the next state\n",
    "    next_state = get_prepared_state(next_state)    # prepare the state for conv3d\n",
    "    reward = env_info.rewards[0]                   # get the reward\n",
    "    done = env_info.local_done[0]                  # see if episode has finished\n",
    "    score += reward                                # update the score\n",
    "    state = next_state                             # roll over the state to next time step\n",
    "#     state = state[0]\n",
    "\n",
    "    if done:\n",
    "        break \n",
    "    \n",
    "print(\"Score: {}\".format(score))"
   ]
  },
  {
   "cell_type": "markdown",
   "metadata": {},
   "source": [
    "###  9. Train the Agent\n",
    "\n",
    "* The maximum number of episodes = 2000\n",
    "* The maximum time steps per episode = 1000\n",
    "* Start value of epsilon = 1.0\n",
    "* The minimum value of epsilon = 0.01\n",
    "* The decay rate for epsilon = 0.995\n",
    "\n",
    "When training the environment, set `train_mode=True`, so that the line for resetting the environment looks like the following:\n",
    "```python\n",
    "env_info = env.reset(train_mode=True)[brain_name]\n",
    "```"
   ]
  },
  {
   "cell_type": "code",
   "execution_count": 13,
   "metadata": {},
   "outputs": [
    {
     "name": "stdout",
     "output_type": "stream",
     "text": [
      "Episode 100\tAverage Score: 0.06\n",
      "Episode 200\tAverage Score: 0.451\n",
      "Episode 300\tAverage Score: 1.46\n",
      "Episode 400\tAverage Score: 3.46\n",
      "Episode 500\tAverage Score: 6.81\n",
      "Episode 600\tAverage Score: 8.07\n",
      "Episode 700\tAverage Score: 9.64\n",
      "Episode 800\tAverage Score: 11.02\n",
      "Episode 859\tAverage Score: 12.01\n",
      "Environment solved in 859 episodes!\tAverage Score: 12.01\n",
      "Time for training: 92 minutes and 0.2 seconds\n"
     ]
    },
    {
     "data": {
      "image/png": "[encoded data removed]",
      "text/plain": [
       "<Figure size 432x288 with 1 Axes>"
      ]
     },
     "metadata": {
      "needs_background": "light"
     },
     "output_type": "display_data"
    }
   ],
   "source": [
    "def trainDQN(n_episodes=2000, max_t=1000, eps_start=1.0, eps_end=0.01, eps_decay=0.995):\n",
    "    \"\"\"Deep Q-Learning.\n",
    "    \n",
    "    Params\n",
    "    ======\n",
    "        n_episodes (int): maximum number of training episodes\n",
    "        max_t (int): maximum number of timesteps per episode\n",
    "        eps_start (float): starting value of epsilon, for epsilon-greedy action selection\n",
    "        eps_end (float): minimum value of epsilon\n",
    "        eps_decay (float): multiplicative factor (per episode) for decreasing epsilon\n",
    "    \"\"\"\n",
    "    scores = []                        # list containing scores from each episode\n",
    "    scores_window = deque(maxlen=100)  # last 100 scores\n",
    "    eps = eps_start                    # initialize epsilon\n",
    "    \n",
    "    start_time = time.time()           # get the starting time of training\n",
    "    \n",
    "    for i_episode in range(1, n_episodes+1):\n",
    "        \n",
    "        env_info = env.reset(train_mode=True)[brain_name]   # reset the environment\n",
    "        state = env_info.visual_observations[0]            # get the next state\n",
    "        state = get_prepared_state(state)\n",
    "#         state1 = np.moveaxis(state1,3,1)                    # Move axis 3 to position 1. Other axes remain in their original order.\n",
    "#         state = np.expand_dims(state, 0)\n",
    "        \n",
    "        score = 0                                           # reset score for each new episode to 0\n",
    "        \n",
    "        for t in range(max_t):\n",
    "#         while True:\n",
    "            action = agent.act(state, eps)                 # get the next action from the agent\n",
    "            env_info = env.step(action)[brain_name]        # send the action to the environment\n",
    "            next_state = env_info.visual_observations[0]        # get the next state\n",
    "            next_state = get_prepared_state(next_state)\n",
    "            \n",
    "            reward = env_info.rewards[0]                   # get the reward\n",
    "            done = env_info.local_done[0]                  # check if episode has finished\n",
    "            \n",
    "            agent.step(state, action, reward, next_state, done) # Update the replay memory (and the weights)\n",
    "            \n",
    "            score += reward                                # update the score -> add the reward after each step\n",
    "            state = next_state                             # roll over the state to next time step\n",
    "            \n",
    "            if done:\n",
    "                break\n",
    "                \n",
    "                \n",
    "        scores_window.append(score)       # save most recent score for mean score calculation\n",
    "        scores.append(score)              # save most recent score for plotting the training development\n",
    "        \n",
    "        eps = max(eps_end, eps_decay*eps) # decrease epsilon till the minimal value of epsilon has been reached\n",
    "        \n",
    "        # print continuously the mean score of the last 100 episodes\n",
    "        print('\\rEpisode {}\\tAverage Score: {:.2f}'.format(i_episode, np.mean(scores_window)), end=\"\")\n",
    "        \n",
    "         # after each 100 episodes print mean score values into a new line\n",
    "        if i_episode % 100 == 0:\n",
    "            print('\\rEpisode {}\\tAverage Score: {:.2f}'.format(i_episode, np.mean(scores_window)))\n",
    "            # save the trained network\n",
    "            torch.save(agent.qnetwork_local.state_dict(), 'checkpoint_pixels.pth')\n",
    "        \n",
    "        # Train the network till the average score is greater or equal to 12\n",
    "        if np.mean(scores_window)>=12.0:\n",
    "            print('\\nEnvironment solved in {:d} episodes!\\tAverage Score: {:.2f}'.format(i_episode, np.mean(scores_window)))\n",
    "            # save the trained network\n",
    "            torch.save(agent.qnetwork_local.state_dict(), 'checkpoint_pixels.pth')\n",
    "            break\n",
    "    \n",
    "    # print time needed for training the agent\n",
    "    print(\"Time for training: {:.0f} minutes and {:.1f} seconds\".format((time.time() - start_time)/60,\\\n",
    "                                                                        (time.time() - start_time) % 60))\n",
    "    \n",
    "    return scores\n",
    "\n",
    "scores = trainDQN()\n",
    "\n",
    "# plot the scores\n",
    "fig = plt.figure()\n",
    "ax = fig.add_subplot(111)\n",
    "plt.plot(np.arange(len(scores)), scores)\n",
    "plt.ylabel('Score')\n",
    "plt.xlabel('Episode #')\n",
    "plt.show()"
   ]
  },
  {
   "cell_type": "markdown",
   "metadata": {},
   "source": [
    "### 10. Evaluate a Smart Agent!\n",
    "\n",
    "Load the trained weights from file to evaluate a smart agent!"
   ]
  },
  {
   "cell_type": "code",
   "execution_count": 14,
   "metadata": {},
   "outputs": [
    {
     "name": "stdout",
     "output_type": "stream",
     "text": [
      "Mean value of 50 runs with 400 steps = 12.8\n",
      "Mean value of 50 runs with 400 steps = 13.24\n",
      "Mean value of 50 runs with 400 steps = 12.44\n",
      "Mean value of 50 runs with 400 steps = 13.54\n",
      "Mean value of 50 runs with 400 steps = 13.14\n",
      "Overall mean score: 13.032\n"
     ]
    }
   ],
   "source": [
    "# load the weights from file\n",
    "agent.qnetwork_local.load_state_dict(torch.load('checkpoint_pixels.pth'))\n",
    "overall_mean_score = 0\n",
    "meta_runs = 5\n",
    "\n",
    "for k in range(meta_runs):\n",
    "\n",
    "    total_score = 0\n",
    "    runs = 50\n",
    "    steps = 400\n",
    "\n",
    "    for i in range(runs):\n",
    "        env_info = env.reset(train_mode=False)[brain_name]  # reset the environment\n",
    "        state = env_info.visual_observations[0]             # get the next state\n",
    "        state = get_prepared_state(state)                  # prepare the state for conv3d\n",
    "        score = 0\n",
    "\n",
    "        for j in range(steps):\n",
    "            action = agent.act(state)                      # get the next action from the agent\n",
    "            env_info = env.step(action)[brain_name]        # send the action to the environment\n",
    "            state = env_info.visual_observations[0]        # get the next state\n",
    "            state = get_prepared_state(state)              # prepare the state for conv3d\n",
    "            reward = env_info.rewards[0]                   # get the reward\n",
    "            done = env_info.local_done[0]                  # see if episode has finished\n",
    "            score += reward                                # update the score\n",
    "#             time.sleep(0.05)\n",
    "\n",
    "            if done:\n",
    "                total_score += score\n",
    "#                 print('In run {} the agent got a reward of {}!'.format(i+1, score))\n",
    "                break \n",
    "    \n",
    "    overall_mean_score += total_score / runs\n",
    "\n",
    "    print('Mean value of {} runs with {} steps = {}'.format(runs, steps, total_score/runs))\n",
    "\n",
    "print('Overall mean score: {}'.format(overall_mean_score / meta_runs)) "
   ]
  },
  {
   "cell_type": "markdown",
   "metadata": {},
   "source": [
    "Close the environment"
   ]
  },
  {
   "cell_type": "code",
   "execution_count": 15,
   "metadata": {},
   "outputs": [],
   "source": [
    "env.close()"
   ]
  },
  {
   "cell_type": "code",
   "execution_count": null,
   "metadata": {},
   "outputs": [],
   "source": []
  }
 ],
 "metadata": {
  "kernelspec": {
   "display_name": "Python 3",
   "language": "python",
   "name": "python3"
  },
  "language_info": {
   "codemirror_mode": {
    "name": "ipython",
    "version": 3
   },
   "file_extension": ".py",
   "mimetype": "text/x-python",
   "name": "python",
   "nbconvert_exporter": "python",
   "pygments_lexer": "ipython3",
   "version": "3.6.10"
  }
 },
 "nbformat": 4,
 "nbformat_minor": 2
}
